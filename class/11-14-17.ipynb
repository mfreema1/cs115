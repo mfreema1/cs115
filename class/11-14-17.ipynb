{
 "cells": [
  {
   "cell_type": "markdown",
   "metadata": {},
   "source": [
    "__Mark Freeman__ 11/14/17"
   ]
  },
  {
   "cell_type": "markdown",
   "metadata": {},
   "source": [
    "Let's recall from yesterday that every class in python has a special function called a _constructor_.  In Python, the constructor is called `__init__`.  Let's pull in some of our code from yesterday."
   ]
  },
  {
   "cell_type": "code",
   "execution_count": 6,
   "metadata": {},
   "outputs": [
    {
     "name": "stdout",
     "output_type": "stream",
     "text": [
      "Enter new GPA: 5\n",
      "Error:  GPA must be between 0.0 and 4.0\n"
     ]
    },
    {
     "ename": "SystemExit",
     "evalue": "1",
     "output_type": "error",
     "traceback": [
      "An exception has occurred, use %tb to see the full traceback.\n",
      "\u001b[1;31mSystemExit\u001b[0m\u001b[1;31m:\u001b[0m 1\n"
     ]
    },
    {
     "name": "stderr",
     "output_type": "stream",
     "text": [
      "C:\\Users\\Mark\\Anaconda3\\lib\\site-packages\\IPython\\core\\interactiveshell.py:2870: UserWarning: To exit: use 'exit', 'quit', or Ctrl-D.\n",
      "  warn(\"To exit: use 'exit', 'quit', or Ctrl-D.\", stacklevel=1)\n"
     ]
    }
   ],
   "source": [
    "import sys\n",
    "class Student(object):\n",
    "    def __init__(self, first_name, last_name, sid, gpa): # init denotes the constructor \n",
    "        self.__first_name = first_name # double underscore denotes that it is a private variable, and \n",
    "                                        #is only accessible within the class\n",
    "        self.__last_name = last_name\n",
    "        self.__sid = sid\n",
    "        self.gpa = gpa # using it this way, we are using the setter to instantiate our private member\n",
    "        # variable `self.__gpa__` (`self.__gpa = local_gpa` in gpa.setter) That way, we get all of our constraints\n",
    "        # that we laid out in our setter in our constructor as well\n",
    "    \n",
    "    def __str__(self): # this is essentially the same as a .toString() call in Java.  It gives you a more\n",
    "                        # human-readable form of the object\n",
    "        return self.__first_name + ' ' + self.__last_name + ' (SID: ' + \\\n",
    "            self.__sid + ', GPA: ' + str(self.__gpa) + ')'\n",
    "    \n",
    "    #this is called a decorator in python.  It is similar to an annotation in Java.  This is how you denote getters\n",
    "    @property\n",
    "    def first_name(self):\n",
    "        return self.__first_name\n",
    "    \n",
    "    @property\n",
    "    def last_name(self):\n",
    "        return self.__last_name\n",
    "    \n",
    "    @property\n",
    "    def sid(self):\n",
    "        return self.sid\n",
    "    \n",
    "    @property\n",
    "    def gpa(self):\n",
    "        return self.gpa\n",
    "    \n",
    "    @gpa.setter\n",
    "    def gpa(self, gpa):\n",
    "        try:\n",
    "            local_gpa = float(gpa)\n",
    "        except:\n",
    "            raise TypeError('GPA must be a float')\n",
    "        if local_gpa < 0.0 or local_gpa > 4.0:\n",
    "            raise ValueError('GPA must be between 0.0 and 4.0')\n",
    "        self.__gpa = local_gpa\n",
    "    \n",
    "    @first_name.setter\n",
    "    def first_name(self, first_name):\n",
    "        self.__first_name = first_name\n",
    "    #so on and so on\n",
    "    \n",
    "if __name__ == '__main__': #this is the same as public static void main (string args) in Java\n",
    "    s = Student('Jeremy', 'Doll', '55555555', '1.8')\n",
    "    try:\n",
    "        s.gpa = input('Enter new GPA: ').strip()\n",
    "    except (TypeError, ValueError) as error:\n",
    "        print('Error: ', error)\n",
    "        sys.exit(1) #returning 1 on exit means our program had an error\n",
    "    print(s)\n",
    "    \n",
    "print(s)\n",
    "print(s.first_name) # this goes through the first_name function.  Otherwise, since it is a private member variable,\n",
    "                    # if you dont have that function, you won't have access to that variable and it will throw error\n",
    "s.first_name = 'Brian'\n",
    "print(s.first_name)"
   ]
  },
  {
   "cell_type": "code",
   "execution_count": null,
   "metadata": {
    "collapsed": true
   },
   "outputs": [],
   "source": []
  }
 ],
 "metadata": {
  "kernelspec": {
   "display_name": "Python 3",
   "language": "python",
   "name": "python3"
  },
  "language_info": {
   "codemirror_mode": {
    "name": "ipython",
    "version": 3
   },
   "file_extension": ".py",
   "mimetype": "text/x-python",
   "name": "python",
   "nbconvert_exporter": "python",
   "pygments_lexer": "ipython3",
   "version": "3.6.3"
  }
 },
 "nbformat": 4,
 "nbformat_minor": 2
}
