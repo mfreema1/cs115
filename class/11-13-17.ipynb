{
 "cells": [
  {
   "cell_type": "markdown",
   "metadata": {},
   "source": [
    "__Mark Freeman__ 11/13/2017"
   ]
  },
  {
   "cell_type": "markdown",
   "metadata": {},
   "source": [
    "A class is a blueprint for an object.  Classes contain properties (often called attributes or fields) and methods (functions) that change the state of the object.  We'll start with a special method called the constructor, whose purpose is to initialize the fields of the object.  When you invoke the constructor and create an object value, you have performed instantiation."
   ]
  },
  {
   "cell_type": "code",
   "execution_count": 2,
   "metadata": {
    "collapsed": true
   },
   "outputs": [],
   "source": [
    "def binary_search(lst, key):\n",
    "    \"\"\"searches the list for the key.  If the key is present, the function returns the index of the key.\n",
    "    Otherwise, it returns -low -1.\n",
    "    NOTE: binary search works only if the list is sorted\"\"\"\n",
    "    low = 0\n",
    "    high = len(lst) - 1\n",
    "    # notice that low and high are references to indices, not values at those indices\n",
    "    while low <= high: # exits the loop when the number isn't found in the list\n",
    "        mid = low + (high - low) // 2 # get the mid index of the two\n",
    "        if lst[mid] == key:\n",
    "            return mid\n",
    "        if lst[mid] < key:\n",
    "            low = mid + 1\n",
    "        else:\n",
    "            high = mid - 1\n",
    "    return -low - 1\n",
    "\n",
    "\"\"\"The reason that we are returning -low - 1 is so that if we took -(return value) - 1, it would give us the index of the\n",
    "item in sorted order if we were to insert it into the list.  That way, we get a lot of information for very little effort\"\"\""
   ]
  },
  {
   "cell_type": "markdown",
   "metadata": {},
   "source": [
    "Binary search is a class of search algorithms that relies on the list being searched to be pre-sorted.  Its running time in big O notation is log base 2 of n.  Denoted:\n",
    "> $O(log_2n)$"
   ]
  },
  {
   "cell_type": "code",
   "execution_count": 7,
   "metadata": {},
   "outputs": [
    {
     "name": "stdout",
     "output_type": "stream",
     "text": [
      "Jeremy Doll (SID: 55555555, GPA: 1.8)\n",
      "Jeremy\n",
      "Brian\n"
     ]
    }
   ],
   "source": [
    "class Student(object):\n",
    "    def __init__(self, first_name, last_name, sid, gpa): # init denotes the constructor \n",
    "        self.__first_name = first_name # double underscore denotes that it is a private variable, and \n",
    "                                        #is only accessible within the class\n",
    "        self.__last_name = last_name\n",
    "        self.__sid = sid\n",
    "        self.__gpa = float(gpa)\n",
    "    \n",
    "    def __str__(self): # this is essentially the same as a .toString() call in Java.  It gives you a more\n",
    "                        # human-readable form of the object\n",
    "        return self.__first_name + ' ' + self.__last_name + ' (SID: ' + \\\n",
    "            self.__sid + ', GPA: ' + str(self.__gpa) + ')'\n",
    "    \n",
    "    #this is called a decorator in python.  It is similar to an annotation in Java.  This is how you denote getters\n",
    "    @property\n",
    "    def first_name(self):\n",
    "        return self.__first_name\n",
    "    \n",
    "    @property\n",
    "    def last_name(self):\n",
    "        return self.__last_name\n",
    "    \n",
    "    @property\n",
    "    def sid(self):\n",
    "        return self.sid\n",
    "    \n",
    "    @property\n",
    "    def gpa(self):\n",
    "        return self.gpa\n",
    "    \n",
    "    @first_name.setter\n",
    "    def first_name(self, first_name):\n",
    "        self.__first_name = first_name\n",
    "    #so on and so on\n",
    "    \n",
    "if __name__ == '__main__': #this is the same as public static void main (string args) in Java\n",
    "    s = Student('Jeremy', 'Doll', '55555555', '1.8')\n",
    "    \n",
    "print(s)\n",
    "print(s.first_name) # this goes through the first_name function.  Otherwise, since it is a private member variable,\n",
    "                    # if you dont have that function, you won't have access to that variable and it will throw error\n",
    "s.first_name = 'Brian'\n",
    "print(s.first_name)"
   ]
  }
 ],
 "metadata": {
  "kernelspec": {
   "display_name": "Python 3",
   "language": "python",
   "name": "python3"
  },
  "language_info": {
   "codemirror_mode": {
    "name": "ipython",
    "version": 3
   },
   "file_extension": ".py",
   "mimetype": "text/x-python",
   "name": "python",
   "nbconvert_exporter": "python",
   "pygments_lexer": "ipython3",
   "version": "3.6.3"
  }
 },
 "nbformat": 4,
 "nbformat_minor": 2
}
