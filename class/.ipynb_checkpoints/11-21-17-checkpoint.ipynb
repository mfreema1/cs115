{
 "cells": [
  {
   "cell_type": "markdown",
   "metadata": {},
   "source": [
    "__Mark Freeman__ 11/21/2017"
   ]
  },
  {
   "cell_type": "markdown",
   "metadata": {},
   "source": [
    "## Abstract Classes in Python\n",
    "\n",
    "An abstract class is a class is a platform that can be useful to extend things from.  They tend to be overarching classes with a few methods that are not implemented.  They will need to be implemented after being subclassed from the abstract class.\n",
    "\n",
    "The general functionality is pushed up to the abstract class and the more specific functionality is put in the subclass."
   ]
  },
  {
   "cell_type": "code",
   "execution_count": 9,
   "metadata": {},
   "outputs": [
    {
     "name": "stdout",
     "output_type": "stream",
     "text": [
      "Error:  Can't instantiate abstract class Shape with abstract methods area\n"
     ]
    }
   ],
   "source": [
    "from abc import ABCMeta, abstractproperty\n",
    "class Shape(metaclass=ABCMeta): # abc is abstract base class\n",
    "    def __init__(self, x, y, name='Shape'):\n",
    "        self.__x = x\n",
    "        self.__y = y\n",
    "        self.__name = name\n",
    "    \n",
    "    @property\n",
    "    def x(self):\n",
    "        return self.__x\n",
    "    \n",
    "    @property\n",
    "    def y(self):\n",
    "        return self.__y\n",
    "    \n",
    "    @x.setter\n",
    "    def x(self, x):\n",
    "        self.__x = x\n",
    "        \n",
    "    @y.setter\n",
    "    def y(self, y):\n",
    "        self.__y = y\n",
    "    \n",
    "    @abstractproperty\n",
    "    def area(self):\n",
    "        pass # we're going to implement this in a subclass\n",
    "    \n",
    "    def __str__(self):\n",
    "        return self.__name + ' at (' + str(self.__x) + ', ' + \\\n",
    "               str(self.__y) + ')'\n",
    "\n",
    "if __name__ == '__main__':\n",
    "    try:\n",
    "        a = Shape(10, 20)\n",
    "    except TypeError as error:\n",
    "        print('Error: ', error)"
   ]
  },
  {
   "cell_type": "code",
   "execution_count": 12,
   "metadata": {},
   "outputs": [
    {
     "name": "stdout",
     "output_type": "stream",
     "text": [
      "Rectangle at (10, 10), length = 20, width = 20, area = 400\n"
     ]
    }
   ],
   "source": [
    "class Rectangle(Shape):\n",
    "    def __init__(self, x, y, length, width, name='Rectangle'):\n",
    "        super().__init__(x, y, name)\n",
    "        self.__length = length\n",
    "        self.__width = width\n",
    "        \n",
    "    @property\n",
    "    def length(self):\n",
    "        return self.__length\n",
    "    \n",
    "    @property\n",
    "    def width(self):\n",
    "        return self.__width\n",
    "    \n",
    "    @length.setter\n",
    "    def length(self, length):\n",
    "        self.__length = length\n",
    "        \n",
    "    @width.setter\n",
    "    def width(self, width):\n",
    "        self.__width = width\n",
    "        \n",
    "    @property\n",
    "    def area(self):\n",
    "        return self.__length * self.__width\n",
    "    \n",
    "    def __str__(self):\n",
    "        return super().__str__() + ', length = ' + \\\n",
    "               str(self.__length) + ', width = ' + str(self.__width) + \\\n",
    "               ', area = ' + str(self.area)\n",
    "            \n",
    "if __name__ == '__main__':\n",
    "    rect = Rectangle(10, 10, 20, 20)\n",
    "print(rect)"
   ]
  },
  {
   "cell_type": "code",
   "execution_count": 15,
   "metadata": {},
   "outputs": [
    {
     "name": "stdout",
     "output_type": "stream",
     "text": [
      "Circle at (10, 10), radius = 20, area = 1256.6370614359173\n"
     ]
    }
   ],
   "source": [
    "import math\n",
    "class Circle(Shape):\n",
    "    def __init__(self, x, y, radius, name=\"Circle\"):\n",
    "        super().__init__(x, y, name)\n",
    "        self.__radius = radius\n",
    "        \n",
    "    @property\n",
    "    def radius(self):\n",
    "        return self.__radius\n",
    "    \n",
    "    @radius.setter\n",
    "    def radius(self, radius):\n",
    "        self.__radius = radius\n",
    "        \n",
    "    @property\n",
    "    def area(self):\n",
    "        return math.pi * self.__radius * self.__radius\n",
    "    \n",
    "    def __str__(self):\n",
    "        return super().__str__() + ', radius = ' + str(self.__radius) + \\\n",
    "               ', area = ' + str(self.area)\n",
    "    \n",
    "if __name__ == '__main__':\n",
    "    circ = Circle(10, 10, 20)\n",
    "print(circ)"
   ]
  }
 ],
 "metadata": {
  "kernelspec": {
   "display_name": "Python 3",
   "language": "python",
   "name": "python3"
  },
  "language_info": {
   "codemirror_mode": {
    "name": "ipython",
    "version": 3
   },
   "file_extension": ".py",
   "mimetype": "text/x-python",
   "name": "python",
   "nbconvert_exporter": "python",
   "pygments_lexer": "ipython3",
   "version": "3.6.3"
  }
 },
 "nbformat": 4,
 "nbformat_minor": 2
}
