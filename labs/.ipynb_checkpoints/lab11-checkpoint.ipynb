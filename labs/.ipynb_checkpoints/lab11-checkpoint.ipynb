{
 "cells": [
  {
   "cell_type": "markdown",
   "metadata": {},
   "source": [
    "__Mark Freeman__ 11/16/2017"
   ]
  },
  {
   "cell_type": "code",
   "execution_count": 2,
   "metadata": {},
   "outputs": [
    {
     "name": "stdout",
     "output_type": "stream",
     "text": [
      "\n"
     ]
    }
   ],
   "source": [
    "class QuadraticEquation(object):\n",
    "    def __init__(self, a, b, c):\n",
    "        if a == 0:\n",
    "            raise ValueError(\"Coefficient 'a' cannot be 0 in a quadratic equation.\")\n",
    "\n",
    "        self.__a = float(a)\n",
    "        self.__b = float(b)\n",
    "        self.__c = float(c)\n",
    "                \n",
    "    @property\n",
    "    def a(self):\n",
    "        return self.__a\n",
    "    \n",
    "    @property\n",
    "    def b(self):\n",
    "        return self.__b\n",
    "    \n",
    "    @property\n",
    "    def c(self):\n",
    "        return self.__c\n",
    "    \n",
    "    def discriminant(self):\n",
    "        return self.__b * self.__b - 4 * self.__a * self.__c\n",
    "    \n",
    "    def root1(self):\n",
    "        try:\n",
    "            return (-self.__b + discriminant(self) ** .5)/(2 * self.__a)\n",
    "        except:\n",
    "            return None\n",
    "\n",
    "    def root2(self):\n",
    "        try:\n",
    "            return (-self.__b - discriminant(self))/(2 * self.__a)\n",
    "        except:\n",
    "            return None\n",
    "        \n",
    "    def aTerm(ca):\n",
    "        return str(a) + 'x^2'\n",
    "        \n",
    "    def bTerm(b):\n",
    "        if b < 0:\n",
    "            return ' - ' + str(abs(b)) + 'x'\n",
    "        if b == 0:\n",
    "            return ''\n",
    "        return ' + ' + str(abs(b)) + 'x'\n",
    "        \n",
    "    def cTerm(c):\n",
    "        if c < 0:\n",
    "            return ' - ' + str(abs(c))\n",
    "        if c == 0:\n",
    "            return ''\n",
    "        return ' + ' + str(abs(c))\n",
    "    \n",
    "    def __str__(self):\n",
    "        return self.aTerm(self.__a) + self.bTerm(self.__b) + self.cTerm(self.__c) + ' = 0'"
   ]
  }
 ],
 "metadata": {
  "kernelspec": {
   "display_name": "Python 3",
   "language": "python",
   "name": "python3"
  },
  "language_info": {
   "codemirror_mode": {
    "name": "ipython",
    "version": 3
   },
   "file_extension": ".py",
   "mimetype": "text/x-python",
   "name": "python",
   "nbconvert_exporter": "python",
   "pygments_lexer": "ipython3",
   "version": "3.6.3"
  }
 },
 "nbformat": 4,
 "nbformat_minor": 2
}
